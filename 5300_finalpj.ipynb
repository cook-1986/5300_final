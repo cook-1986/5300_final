{
 "cells": [
  {
   "cell_type": "code",
   "execution_count": 1,
   "id": "d1ffe00a-8625-42ac-abdc-538129da6388",
   "metadata": {
    "tags": []
   },
   "outputs": [],
   "source": [
    "import numpy as np\n",
    "import sympy as smp\n",
    "from scipy.integrate import odeint\n",
    "import matplotlib.pyplot as plt\n",
    "from matplotlib import animation\n",
    "from matplotlib.animation import PillowWriter"
   ]
  },
  {
   "cell_type": "markdown",
   "id": "6081bb0a-4423-42df-a488-2ee433c54adc",
   "metadata": {},
   "source": [
    "## Solving an N-Body Pendulum System with Spring-like Rods using Lagrangian Mechanics\n",
    "\n",
    "### (Physical Problem Statement on Rubric)\n",
    "\n",
    "In this project, I look to simulate and visualize the motion of an **n-body pendulum system**, where each pendulum is connected by a spring rather than a rigid rod. Because of this, another degree of freedom-the radial extension of the mass-is added to the problem. This creates a system of equations that is essentially impossible to solve by hand.\n",
    "\n",
    "To model this system, I apply **Lagrangian mechanics**—an aspect that we have been studying thoroughly throughout this course—which utilizes the conserved quantities to derive the coupled equations of motion. For a system with \\( n \\) masses, this results in \\( 2n \\) coupled second-order differential equations, where each mass contributes one angular and one radial coordinate.\n",
    "\n",
    "In this specific notebook, I found it convenient to consider each mass and spring to be identical to avoid overcomplication, but it could be done with fairly little additional work.\n",
    "\n",
    "I found it useful to derive the Lagrangian with the following:\n",
    "- `sympy`\n",
    "- `scipy.integrate.odeint`\n",
    "- `matplotlib` / `manim`\n",
    "\n",
    "Sympy was very simple to use because there is much documentation online about how to use it in similar contexts. These sources were very important for me in this notebook. By highlighting the use of sympy in the Lagrangian definition, I believe I partially address the 10th criterion in the rubric.\n",
    "\n",
    "Odeint was the integrator I chose to use for this only because it was the one I used most frequently throughout this course. I'm sure there are other methods that may be more efficient, but this worked for me.\n",
    "\n",
    "To animate, I again looked for similar pendulum animations online and derived mine from that. It is not a great animation, but it absolutely captures the motion of the system.\n",
    "\n",
    "\n",
    "This notebook takes a very long time for my computer to run, especially for n greater than 3, but feel welcome to see how much your computer can handle.\n"
   ]
  },
  {
   "cell_type": "code",
   "execution_count": 2,
   "id": "16195dac-70a4-4bb7-a5a2-6c3a63dbeb82",
   "metadata": {
    "tags": []
   },
   "outputs": [],
   "source": [
    "#Initializing sympy constants and variables for the notebook\n",
    "\n",
    "t,m,g,k,l = smp.symbols('t m g k l')"
   ]
  },
  {
   "cell_type": "code",
   "execution_count": 3,
   "id": "aac77fcd-21c8-4873-b04d-cfac681b4f2c",
   "metadata": {},
   "outputs": [],
   "source": [
    "\"\"\"\n",
    "This is the most powerful block of code within this notebook,\n",
    "and has the ability to determine how many bodies will be in the \n",
    "pendulum system. I advise choosing a value much greater than 2,\n",
    "as it probably will take too long.\n",
    "\"\"\"\n",
    "\n",
    "n = 2"
   ]
  },
  {
   "cell_type": "code",
   "execution_count": 4,
   "id": "a4e6d39c-8688-45d5-804d-e1ff19ef5c66",
   "metadata": {
    "tags": []
   },
   "outputs": [],
   "source": [
    "\n",
    "\n",
    "# First, I create phi1 and r1 up to phin and rn\n",
    "\n",
    "phis = smp.symbols([f'phi_{i+1}' for i in range(n)], cls=smp.Function)\n",
    "rs = smp.symbols([f'r_{i+1}' for i in range(n)], cls=smp.Function)\n",
    "\n",
    "#I make each a function of time\n",
    "\n",
    "#phis_t = [phi(t) for phi in phis]\n",
    "#rs_t = [r(t) for r in rs]\n",
    "\n",
    "phis_t = [smp.Function(f'phi{i+1}')(t) for i in range(n)]\n",
    "rs_t = [smp.Function(f'r{i+1}')(t) for i in range(n)]\n",
    "\n",
    "# First derivatives\n",
    "\n",
    "phis_dot = [smp.diff(phi_t, t) for phi_t in phis_t]\n",
    "rs_dot = [smp.diff(r_t, t) for r_t in rs_t]\n",
    "\n",
    "# Second derivatives\n",
    "\n",
    "phis_dbldot = [smp.diff(dot, t) for dot in phis_dot]\n",
    "rs_dbldot = [smp.diff(dot, t) for dot in rs_dot]\n",
    "\n",
    "# Creating dictionaries that make for easy indexing throughout notebook\n",
    "\n",
    "phi_data = {\n",
    "    f'phi{i+1}': {\n",
    "        'norm': phis_t[i],\n",
    "        'dot': phis_dot[i],\n",
    "        'dbldot': phis_dbldot[i]\n",
    "    }\n",
    "    for i in range(n)\n",
    "}\n",
    "\n",
    "r_data = {\n",
    "    f'r{i+1}': {\n",
    "        'norm': rs_t[i],\n",
    "        'dot': rs_dot[i],\n",
    "        'dbldot': rs_dbldot[i]\n",
    "    }\n",
    "    for i in range(n)\n",
    "}\n",
    "\n",
    "\n"
   ]
  },
  {
   "cell_type": "code",
   "execution_count": 5,
   "id": "e1a38be7-3f0e-474c-bc0e-423b6de5ae29",
   "metadata": {
    "tags": []
   },
   "outputs": [],
   "source": [
    "#Next, I create generalized position coordinates to make the Lagrangian calculation easier\n",
    "\n",
    "x_data = {}\n",
    "y_data = {}\n",
    "\n",
    "#Each coordinate x_i and y_i is a summation of the coordinates before it plus (l+r_i)*cos(phi_i) for x_i\n",
    "#and minus (l+r_i)*sin(phi_i) for y_i, where phi is defined as the angle from the x axis\n",
    "\n",
    "for i in range(n):\n",
    "    \n",
    "    #We sum over all previous x and y and add addtional term\n",
    "    \n",
    "    xi_expr = sum((l + r_data[f'r{j+1}']['norm']) * smp.cos(phi_data[f'phi{j+1}']['norm']) for j in range(i + 1))\n",
    "    yi_expr = -sum((l + r_data[f'r{j+1}']['norm']) * smp.sin(phi_data[f'phi{j+1}']['norm']) for j in range(i + 1))\n",
    "    \n",
    "    #We append each x and y to a data array with length n\n",
    "    \n",
    "    x_data[f'x{i+1}'] = xi_expr\n",
    "    y_data[f'y{i+1}'] = yi_expr"
   ]
  },
  {
   "cell_type": "code",
   "execution_count": null,
   "id": "94102341-14bb-43cd-92ff-88c4ac93bc91",
   "metadata": {
    "tags": []
   },
   "outputs": [],
   "source": []
  },
  {
   "cell_type": "code",
   "execution_count": 6,
   "id": "97bb9444-f406-4c09-80f6-0f521132ce6b",
   "metadata": {
    "tags": []
   },
   "outputs": [],
   "source": [
    "#We can take the time derivative of x and y to find velocity for kinetic energy\n",
    "\n",
    "x_dot_data = {f'x{i+1}': smp.diff(x_data[f'x{i+1}'], t) for i in range(n)}\n",
    "y_dot_data = {f'y{i+1}': smp.diff(y_data[f'y{i+1}'], t) for i in range(n)}\n",
    "\n",
    "\n",
    "# Because we're calculating in SymPy, the expressions for the Lagrangian are simple to code\n",
    "\n",
    "T = (1/2) * m * sum(x_dot_data[f'x{i+1}']**2 + y_dot_data[f'y{i+1}']**2 for i in range(n))\n",
    "\n",
    "\n",
    "U = m * g * sum(y_data[f'y{i+1}'] for i in range(n)) + sum((1/2) * k * r_data[f'r{i+1}']['norm']**2 for i in range(n))\n",
    "\n",
    "# Lagrangian\n",
    "L = T - U"
   ]
  },
  {
   "cell_type": "code",
   "execution_count": 7,
   "id": "5df0b3df-d40d-48a2-be57-9ab73ffdccf6",
   "metadata": {
    "tags": []
   },
   "outputs": [
    {
     "name": "stdout",
     "output_type": "stream",
     "text": [
      "The Lagrangian for this system is: \n"
     ]
    },
    {
     "data": {
      "text/latex": [
       "$\\displaystyle - g m \\left(- 2 \\left(l + \\operatorname{r_{1}}{\\left(t \\right)}\\right) \\sin{\\left(\\phi_{1}{\\left(t \\right)} \\right)} - \\left(l + \\operatorname{r_{2}}{\\left(t \\right)}\\right) \\sin{\\left(\\phi_{2}{\\left(t \\right)} \\right)}\\right) - 0.5 k \\operatorname{r_{1}}^{2}{\\left(t \\right)} - 0.5 k \\operatorname{r_{2}}^{2}{\\left(t \\right)} + 0.5 m \\left(\\left(\\left(- l - \\operatorname{r_{1}}{\\left(t \\right)}\\right) \\cos{\\left(\\phi_{1}{\\left(t \\right)} \\right)} \\frac{d}{d t} \\phi_{1}{\\left(t \\right)} - \\sin{\\left(\\phi_{1}{\\left(t \\right)} \\right)} \\frac{d}{d t} \\operatorname{r_{1}}{\\left(t \\right)}\\right)^{2} + \\left(- \\left(l + \\operatorname{r_{1}}{\\left(t \\right)}\\right) \\sin{\\left(\\phi_{1}{\\left(t \\right)} \\right)} \\frac{d}{d t} \\phi_{1}{\\left(t \\right)} + \\cos{\\left(\\phi_{1}{\\left(t \\right)} \\right)} \\frac{d}{d t} \\operatorname{r_{1}}{\\left(t \\right)}\\right)^{2} + \\left(\\left(- l - \\operatorname{r_{1}}{\\left(t \\right)}\\right) \\cos{\\left(\\phi_{1}{\\left(t \\right)} \\right)} \\frac{d}{d t} \\phi_{1}{\\left(t \\right)} + \\left(- l - \\operatorname{r_{2}}{\\left(t \\right)}\\right) \\cos{\\left(\\phi_{2}{\\left(t \\right)} \\right)} \\frac{d}{d t} \\phi_{2}{\\left(t \\right)} - \\sin{\\left(\\phi_{1}{\\left(t \\right)} \\right)} \\frac{d}{d t} \\operatorname{r_{1}}{\\left(t \\right)} - \\sin{\\left(\\phi_{2}{\\left(t \\right)} \\right)} \\frac{d}{d t} \\operatorname{r_{2}}{\\left(t \\right)}\\right)^{2} + \\left(- \\left(l + \\operatorname{r_{1}}{\\left(t \\right)}\\right) \\sin{\\left(\\phi_{1}{\\left(t \\right)} \\right)} \\frac{d}{d t} \\phi_{1}{\\left(t \\right)} - \\left(l + \\operatorname{r_{2}}{\\left(t \\right)}\\right) \\sin{\\left(\\phi_{2}{\\left(t \\right)} \\right)} \\frac{d}{d t} \\phi_{2}{\\left(t \\right)} + \\cos{\\left(\\phi_{1}{\\left(t \\right)} \\right)} \\frac{d}{d t} \\operatorname{r_{1}}{\\left(t \\right)} + \\cos{\\left(\\phi_{2}{\\left(t \\right)} \\right)} \\frac{d}{d t} \\operatorname{r_{2}}{\\left(t \\right)}\\right)^{2}\\right)$"
      ],
      "text/plain": [
       "-g*m*(-2*(l + r1(t))*sin(phi1(t)) - (l + r2(t))*sin(phi2(t))) - 0.5*k*r1(t)**2 - 0.5*k*r2(t)**2 + 0.5*m*(((-l - r1(t))*cos(phi1(t))*Derivative(phi1(t), t) - sin(phi1(t))*Derivative(r1(t), t))**2 + (-(l + r1(t))*sin(phi1(t))*Derivative(phi1(t), t) + cos(phi1(t))*Derivative(r1(t), t))**2 + ((-l - r1(t))*cos(phi1(t))*Derivative(phi1(t), t) + (-l - r2(t))*cos(phi2(t))*Derivative(phi2(t), t) - sin(phi1(t))*Derivative(r1(t), t) - sin(phi2(t))*Derivative(r2(t), t))**2 + (-(l + r1(t))*sin(phi1(t))*Derivative(phi1(t), t) - (l + r2(t))*sin(phi2(t))*Derivative(phi2(t), t) + cos(phi1(t))*Derivative(r1(t), t) + cos(phi2(t))*Derivative(r2(t), t))**2)"
      ]
     },
     "execution_count": 7,
     "metadata": {},
     "output_type": "execute_result"
    }
   ],
   "source": [
    "print(\"The Lagrangian for this system is: \")\n",
    "L\n"
   ]
  },
  {
   "cell_type": "code",
   "execution_count": 8,
   "id": "c8306d05-3a1b-40f3-a57f-83f99aa66aaf",
   "metadata": {
    "tags": []
   },
   "outputs": [],
   "source": [
    "\"\"\"\n",
    "We now have our lagrangian, so we can calculate our (2n) Euler Lagrange Equations. Remember,\n",
    "there are (2n) now because of the additional degree of freedom. We will iterate through n and use\n",
    "smp.diff() to take derivatives. Each equation will be stored in the array EL_eqs[]. \n",
    "\n",
    "\"\"\"\n",
    "EL_eqs = []\n",
    "\n",
    "for i in range(n):\n",
    "    \n",
    "    # Creating dummy variables\n",
    "    phi = phi_data[f'phi{i+1}']['norm']\n",
    "    phi_dot = phi_data[f'phi{i+1}']['dot']\n",
    "    \n",
    "    \n",
    "    # Euler Lagrange equation for phi_i\n",
    "    EL_phi = smp.diff(L, phi) - smp.diff(smp.diff(L, phi_dot), t)\n",
    "    EL_eqs.append(EL_phi.simplify())\n",
    "    \n",
    "    #creating dummy variables\n",
    "    \n",
    "    r = r_data[f'r{i+1}']['norm']\n",
    "    r_dot = r_data[f'r{i+1}']['dot']  \n",
    "    \n",
    "    #Euler-Lagrange equation for r_i\n",
    "\n",
    "    EL_r = smp.diff(L, r) - smp.diff(smp.diff(L, r_dot), t)\n",
    "    EL_eqs.append(EL_r.simplify())"
   ]
  },
  {
   "cell_type": "code",
   "execution_count": 9,
   "id": "972a44b4-d56a-4e4e-ba40-a5055e34dd27",
   "metadata": {},
   "outputs": [
    {
     "data": {
      "text/latex": [
       "$\\displaystyle 2.0 g m \\sin{\\left(\\phi_{1}{\\left(t \\right)} \\right)} - 1.0 k \\operatorname{r_{1}}{\\left(t \\right)} - 1.0 l m \\sin{\\left(\\phi_{1}{\\left(t \\right)} - \\phi_{2}{\\left(t \\right)} \\right)} \\frac{d^{2}}{d t^{2}} \\phi_{2}{\\left(t \\right)} + 1.0 l m \\cos{\\left(\\phi_{1}{\\left(t \\right)} - \\phi_{2}{\\left(t \\right)} \\right)} \\left(\\frac{d}{d t} \\phi_{2}{\\left(t \\right)}\\right)^{2} + 2.0 l m \\left(\\frac{d}{d t} \\phi_{1}{\\left(t \\right)}\\right)^{2} + 2.0 m \\operatorname{r_{1}}{\\left(t \\right)} \\left(\\frac{d}{d t} \\phi_{1}{\\left(t \\right)}\\right)^{2} - 1.0 m \\operatorname{r_{2}}{\\left(t \\right)} \\sin{\\left(\\phi_{1}{\\left(t \\right)} - \\phi_{2}{\\left(t \\right)} \\right)} \\frac{d^{2}}{d t^{2}} \\phi_{2}{\\left(t \\right)} + 1.0 m \\operatorname{r_{2}}{\\left(t \\right)} \\cos{\\left(\\phi_{1}{\\left(t \\right)} - \\phi_{2}{\\left(t \\right)} \\right)} \\left(\\frac{d}{d t} \\phi_{2}{\\left(t \\right)}\\right)^{2} - 2.0 m \\sin{\\left(\\phi_{1}{\\left(t \\right)} - \\phi_{2}{\\left(t \\right)} \\right)} \\frac{d}{d t} \\phi_{2}{\\left(t \\right)} \\frac{d}{d t} \\operatorname{r_{2}}{\\left(t \\right)} - 1.0 m \\cos{\\left(\\phi_{1}{\\left(t \\right)} - \\phi_{2}{\\left(t \\right)} \\right)} \\frac{d^{2}}{d t^{2}} \\operatorname{r_{2}}{\\left(t \\right)} - 2.0 m \\frac{d^{2}}{d t^{2}} \\operatorname{r_{1}}{\\left(t \\right)}$"
      ],
      "text/plain": [
       "2.0*g*m*sin(phi1(t)) - 1.0*k*r1(t) - 1.0*l*m*sin(phi1(t) - phi2(t))*Derivative(phi2(t), (t, 2)) + 1.0*l*m*cos(phi1(t) - phi2(t))*Derivative(phi2(t), t)**2 + 2.0*l*m*Derivative(phi1(t), t)**2 + 2.0*m*r1(t)*Derivative(phi1(t), t)**2 - 1.0*m*r2(t)*sin(phi1(t) - phi2(t))*Derivative(phi2(t), (t, 2)) + 1.0*m*r2(t)*cos(phi1(t) - phi2(t))*Derivative(phi2(t), t)**2 - 2.0*m*sin(phi1(t) - phi2(t))*Derivative(phi2(t), t)*Derivative(r2(t), t) - 1.0*m*cos(phi1(t) - phi2(t))*Derivative(r2(t), (t, 2)) - 2.0*m*Derivative(r1(t), (t, 2))"
      ]
     },
     "execution_count": 9,
     "metadata": {},
     "output_type": "execute_result"
    }
   ],
   "source": [
    "EL_eqs[1]"
   ]
  },
  {
   "cell_type": "code",
   "execution_count": 10,
   "id": "2bc6b7f4-cfc5-4d7e-88ba-d36f4b029622",
   "metadata": {
    "tags": []
   },
   "outputs": [],
   "source": [
    "\"\"\"\n",
    "We will now isolate the second derivatives of each phi and each r to prepare for\n",
    "the odeint solving technique. The sympy.solve() command will solve for each second derivative,\n",
    "but is also a time-killer due to the complexity. This cell will take a while.\n",
    "\"\"\"\n",
    "\n",
    "#Creating a list of the second derivatives\n",
    "\n",
    "second_derivs = tuple(val for pair in zip(\n",
    "    (phi_data[f'phi{i+1}']['dbldot'] for i in range(n)),\n",
    "    (r_data[f'r{i+1}']['dbldot'] for i in range(n))\n",
    ") for val in pair)\n",
    "\n",
    "\n",
    "#Solving for the second derivatives (uncoupling the equations)\n",
    "\n",
    "sols = smp.solve(EL_eqs, second_derivs, simplify=False, rational=False)"
   ]
  },
  {
   "cell_type": "code",
   "execution_count": 11,
   "id": "577b2006-3e13-4de1-b112-d9c6d8662912",
   "metadata": {
    "tags": []
   },
   "outputs": [],
   "source": [
    "\"\"\"\n",
    "The next step is to switch from our symbolic functions to real python expressions. The sympy.lambdify()\n",
    "command achieves this. However, we need to still prepare to solve the ode. To do so,\n",
    "we need to create a vector like [phi_i, phi_i_dot] but keep them isolated. So, the functions w and v\n",
    "are the derivatives of phi and r, respectively, and will be used to solve with odeint. This is the\n",
    "technique we used in class, but now it is a bit more intense with the added deg. of freedom.\n",
    "\n",
    "\"\"\"\n",
    "\n",
    "\n",
    "lambdified_funcs = {}\n",
    "\n",
    "\n",
    "\n",
    "# We want to get the variables out of the dictionary for smoother coding\n",
    "\n",
    "phi_funcs  = [phi_data[f'phi{i}']['norm'] for i in range(1, n + 1)]\n",
    "r_funcs    = [r_data[f'r{i}']['norm'] for i in range(1, n + 1)]\n",
    "phi_dots   = [phi_data[f'phi{i}']['dot'] for i in range(1, n + 1)]\n",
    "r_dots     = [r_data[f'r{i}']['dot'] for i in range(1, n + 1)]\n",
    "\n",
    "\n",
    "#Argument list that will be passed to the big functions\n",
    "\n",
    "full_args = [m, k, g, l] + phi_funcs + r_funcs + phi_dots + r_dots\n",
    "\n",
    "#Will now create dphi/dt, dw/dt, dr/dt, dv/dt functions for i in n\n",
    "\n",
    "#dw/dt and dv/dt eqs are the acceleration terms (second derivatives)\n",
    "\n",
    "for i in range(1, n + 1):\n",
    "    \n",
    "    # Second derivative functions, passing large list of parameters\n",
    "    \n",
    "    dw_func = smp.lambdify(full_args, sols[phi_data[f'phi{i}']['dbldot']])\n",
    "    dv_func = smp.lambdify(full_args, sols[r_data[f'r{i}']['dbldot']])\n",
    "\n",
    "    # First derivatives, setting equal to themselves basically\n",
    "    \n",
    "    dphi_func = smp.lambdify(phi_data[f'phi{i}']['dot'], phi_data[f'phi{i}']['dot'])\n",
    "    dr_func   = smp.lambdify(r_data[f'r{i}']['dot'], r_data[f'r{i}']['dot'])\n",
    "\n",
    "    # Storing in list\n",
    "    \n",
    "    lambdified_funcs[f'dw{i}dt_f'] = dw_func\n",
    "    lambdified_funcs[f'dphi{i}dt_f'] = dphi_func\n",
    "    lambdified_funcs[f'dv{i}dt_f'] = dv_func\n",
    "    lambdified_funcs[f'dr{i}dt_f'] = dr_func"
   ]
  },
  {
   "cell_type": "code",
   "execution_count": 12,
   "id": "cd381d69-0f34-45c5-94d8-9e528fa8a608",
   "metadata": {
    "tags": []
   },
   "outputs": [],
   "source": [
    "#Function to pass through odeint(), essentially the derivatives of the expressions\n",
    "\n",
    "def dSdt(S, t):\n",
    "    dSdt_list = []\n",
    "\n",
    "    #First, I unpack the terms within S, setting them equal to simple variables\n",
    "    \n",
    "    phis = []\n",
    "    ws = []\n",
    "    rs = []\n",
    "    vs = []\n",
    "\n",
    "    \n",
    "    for i in range(n):\n",
    "        phis.append(S[2 * i])       # phi_i\n",
    "        ws.append(S[2 * i + 1])     # w_i\n",
    "\n",
    "    for i in range(n):\n",
    "        rs.append(S[(2 * n) + (2 * i)])     # r_i\n",
    "        vs.append(S[(2 * n) + (2 * i) + 1]) # v_i\n",
    "\n",
    "    #Next, I build the input list to be in the same form as I will pass my y0 argument\n",
    "    \n",
    "    inputs = [m, g, k, l] + phis + rs + ws + vs\n",
    "\n",
    "    #I now create solvable quantities that depend on the passed parameters created in previous cell\n",
    "    \n",
    "    for i in range(n):\n",
    "        dphi = lambdified_funcs[f'dphi{i+1}dt_f'](ws[i])\n",
    "        dw   = lambdified_funcs[f'dw{i+1}dt_f'](*inputs)\n",
    "        dSdt_list.extend([dphi, dw])\n",
    "\n",
    "    # Doing equivalent for r_i terms\n",
    "    \n",
    "    for i in range(n):\n",
    "        dr = lambdified_funcs[f'dr{i+1}dt_f'](vs[i])\n",
    "        dv = lambdified_funcs[f'dv{i+1}dt_f'](*inputs)\n",
    "        dSdt_list.extend([dr, dv])\n",
    "\n",
    "    return dSdt_list"
   ]
  },
  {
   "cell_type": "code",
   "execution_count": 13,
   "id": "38cafe46-8715-40ca-9bca-ff3b8a53f3c4",
   "metadata": {
    "tags": []
   },
   "outputs": [],
   "source": [
    "\"\"\"\n",
    "This block of code is pretty fun, it randomly generates the initial conditions for the system\n",
    "based on an arbitrary n. You of course can set your own y0, but make sure it is of the form\n",
    "y0 = [phi1, w1, ...., phin, wn, r1, v1, ..., rn, vn]\n",
    "\n",
    "The initial conditions are generated uniformly between two set boundaries.\n",
    "\n",
    "(Interactivity Criterion in Rubric)\n",
    "\"\"\"\n",
    "\n",
    "y0_n = []\n",
    "\n",
    "\n",
    "for i in range(n):\n",
    "    y0_n.append(np.random.uniform(low=0, high=np.pi))\n",
    "    y0_n.append(np.random.uniform(low=-3, high=3)) \n",
    "        \n",
    "for i in range(n):\n",
    "    y0_n.append(np.random.uniform(low=-4, high=4))\n",
    "    y0_n.append(np.random.uniform(low=-5, high=5))\n",
    "        \n",
    "    \n"
   ]
  },
  {
   "cell_type": "code",
   "execution_count": 14,
   "id": "abe280a7-f749-45b5-950a-29775e04935f",
   "metadata": {
    "tags": []
   },
   "outputs": [],
   "source": [
    "#We now have all the required code to solve for the phis and rs\n",
    "\n",
    "#Initializing the parameters created with sympy\n",
    "\n",
    "t = np.linspace(0,20,1000)\n",
    "g=9.81\n",
    "l=1\n",
    "m=1\n",
    "k=10\n",
    "\n",
    "#Calling odeint to solve\n",
    "\n",
    "ans = odeint(dSdt, y0=y0_n, t=t)"
   ]
  },
  {
   "cell_type": "markdown",
   "id": "14b2f3af-50f8-4e0d-b1c0-1e096783ea18",
   "metadata": {},
   "source": [
    "### Problem Solved!\n",
    "\n",
    "The ans array now has all of our solution encoded within it. The array must be rotated in order to access the solutions. The first half of even rows are the phis, while the first half of odd rows are the phi_dots. The second half of even rows are the rs, and the second half of the odd rows are the r_dots"
   ]
  },
  {
   "cell_type": "code",
   "execution_count": 15,
   "id": "65804eab-5882-4f87-88d0-47a53f7736e9",
   "metadata": {
    "tags": []
   },
   "outputs": [
    {
     "data": {
      "text/plain": [
       "[<matplotlib.lines.Line2D at 0x7fd943d09048>]"
      ]
     },
     "execution_count": 15,
     "metadata": {},
     "output_type": "execute_result"
    },
    {
     "data": {
      "image/png": "[encoded data removed]",
      "text/plain": [
       "<Figure size 432x288 with 1 Axes>"
      ]
     },
     "metadata": {
      "needs_background": "light"
     },
     "output_type": "display_data"
    }
   ],
   "source": [
    "plt.plot(ans.T[0])"
   ]
  },
  {
   "cell_type": "code",
   "execution_count": 16,
   "id": "5631a7df-a01f-462d-80ea-8a3e8e419e36",
   "metadata": {},
   "outputs": [],
   "source": [
    "#This function will generate the x and y coordinates for each mass by unencoding the info\n",
    "#in phi and r\n",
    "\n",
    "\n",
    "def get_positions(phi_list, r_list, l):\n",
    "    \"\"\"\n",
    "    Accepts:\n",
    "    phi_list: list of arrays [phi1(t), phi2(t), ..., phin(t)]\n",
    "    r_list:   list of arrays [r1(t),   r2(t),   ..., rn(t)]\n",
    "    \n",
    "    Returns:\n",
    "      xs, ys: arrays of shape (n, len(t))\n",
    "    \"\"\"\n",
    "    n = len(phi_list)\n",
    "    num_t = len(phi_list[0])\n",
    "    xs = np.zeros((n, num_t))\n",
    "    ys = np.zeros((n, num_t))\n",
    "\n",
    "    x = np.zeros(num_t)\n",
    "    y = np.zeros(num_t)\n",
    "\n",
    "    for i in range(n):\n",
    "        r_total = l + r_list[i]\n",
    "        dx = r_total * np.cos(phi_list[i])\n",
    "        dy = -r_total * np.sin(phi_list[i])\n",
    "        x += dx\n",
    "        y += dy\n",
    "        xs[i] = x\n",
    "        ys[i] = y\n",
    "\n",
    "    return xs, ys"
   ]
  },
  {
   "cell_type": "code",
   "execution_count": 17,
   "id": "2f6ee46b-12d1-4463-a481-4510129376d3",
   "metadata": {
    "tags": []
   },
   "outputs": [],
   "source": [
    "#Implementing the info from my previous markdown cell\n",
    "\n",
    "phi_list = [ans.T[2*i]   for i in range(n)]\n",
    "r_list   = [ans.T[(2*i)+(2*n)] for i in range(n)]\n",
    "\n",
    "\n",
    "xs, ys = get_positions(phi_list, r_list, l)\n",
    "\n",
    "\n",
    "\n",
    "\n"
   ]
  },
  {
   "cell_type": "code",
   "execution_count": 18,
   "id": "51b59866-6b8a-4526-a493-19b820e7b211",
   "metadata": {
    "tags": []
   },
   "outputs": [
    {
     "data": {
      "image/png": "[encoded data removed]",
      "text/plain": [
       "<Figure size 576x576 with 1 Axes>"
      ]
     },
     "metadata": {
      "needs_background": "light"
     },
     "output_type": "display_data"
    }
   ],
   "source": [
    "\"\"\"\n",
    "The animation function is basic and not manim, but it does work. I found a video online about\n",
    "animating these pendulum systems and I adapted my code from there.\n",
    "\"\"\"\n",
    "\n",
    "def animate(i):\n",
    "    x_points = [0] + [xs[j][i] for j in range(n)]\n",
    "    y_points = [0] + [ys[j][i] for j in range(n)]\n",
    "    ln1.set_data(x_points, y_points)\n",
    "    return ln1,\n",
    "    \n",
    "fig, ax = plt.subplots(1,1, figsize=(8,8))\n",
    "ax.grid()\n",
    "ln1, = plt.plot([], [], 'ro-', lw=3, markersize=10)\n",
    "ax.set_ylim(-10,10)\n",
    "ax.set_xlim(-10,10)\n",
    "ani = animation.FuncAnimation(fig, animate, frames=1000, interval=50)\n",
    "ani.save('spring_pendulum.gif', writer='pillow', fps=50)"
   ]
  },
  {
   "cell_type": "code",
   "execution_count": 23,
   "id": "662d87a6-b776-4b74-a50c-678e0ea58cfe",
   "metadata": {
    "tags": []
   },
   "outputs": [],
   "source": [
    "def plot_y_vs_x(x, y, axis_labels=None, label=None, title=None, \n",
    "                color=None, linestyle=None, semilogy=False, loglog=False,\n",
    "                ax=None):\n",
    "    \"\"\"\n",
    "    Generic plotting function: return a figure axis with a plot of y vs. x,\n",
    "    with line color and style, title, axis labels, and line label\n",
    "    \"\"\"\n",
    "    if ax is None:        # if the axis object doesn't exist, make one\n",
    "        ax = plt.gca()\n",
    "\n",
    "    if (semilogy):\n",
    "        line, = ax.semilogy(x, y, label=label, \n",
    "                            color=color, linestyle=linestyle)\n",
    "    elif (loglog):\n",
    "        line, = ax.loglog(x, y, label=label, \n",
    "                          color=color, linestyle=linestyle)\n",
    "    else:\n",
    "        line, = ax.plot(x, y, label=label, \n",
    "                    color=color, linestyle=linestyle)\n",
    "\n",
    "    if label is not None:    # if a label if passed, show the legend\n",
    "        ax.legend()\n",
    "    if title is not None:    # set a title if one if passed\n",
    "        ax.set_title(title)\n",
    "    if axis_labels is not None:  # set x-axis and y-axis labels if passed  \n",
    "        ax.set_xlabel(axis_labels[0])\n",
    "        ax.set_ylabel(axis_labels[1])\n",
    "\n",
    "    return ax, line\n",
    "\n",
    "def start_stop_indices(t_pts, plot_start, plot_stop):\n",
    "    start_index = (np.fabs(t_pts-plot_start)).argmin()  # index in t_pts array \n",
    "    stop_index = (np.fabs(t_pts-plot_stop)).argmin()  # index in t_pts array \n",
    "    return start_index, stop_index"
   ]
  },
  {
   "cell_type": "code",
   "execution_count": 29,
   "id": "6024276c-23c3-41a7-ae9e-3f96624cf776",
   "metadata": {
    "tags": []
   },
   "outputs": [
    {
     "data": {
      "text/plain": [
       "(<AxesSubplot:title={'center':'Phase Plot of Bob 2'}, xlabel='phi_2', ylabel='phi_2_dot'>,\n",
       " <matplotlib.lines.Line2D at 0x7fd93b43a198>)"
      ]
     },
     "execution_count": 29,
     "metadata": {},
     "output_type": "execute_result"
    },
    {
     "data": {
      "image/png": "[encoded data removed]",
      "text/plain": [
       "<Figure size 1080x360 with 2 Axes>"
      ]
     },
     "metadata": {
      "needs_background": "light"
     },
     "output_type": "display_data"
    }
   ],
   "source": [
    "\n",
    "\n",
    "fig = plt.figure(figsize=(15,5))\n",
    "overall_title = 'N body spring pendulum from Lagrangian'\n",
    "               \n",
    "fig.suptitle(overall_title, va='baseline')\n",
    "    \n",
    "# first plot: phi plot \n",
    "ax_a = fig.add_subplot(1,2,1)                  \n",
    "\n",
    "start, stop = start_stop_indices(t, 0, 20)    \n",
    "plot_y_vs_x(ans.T[0][start : stop], ans.T[1][start : stop], \n",
    "            axis_labels=(\"phi_1\", \"phi_1_dot\"),\n",
    "            color='blue',\n",
    "            label=None, \n",
    "            title=\"Phase Plot of Bob 1\", \n",
    "            ax=ax_a)    \n",
    "                              \n",
    "# second plot: phi_dot plot \n",
    "ax_b = fig.add_subplot(1,2,2)                  \n",
    "\n",
    "start, stop = start_stop_indices(t, 0, 20)    \n",
    "plot_y_vs_x(ans.T[2][start : stop], ans.T[3][start : stop], \n",
    "            axis_labels=(\"phi_2\", \"phi_2_dot\"),\n",
    "            color='blue',\n",
    "            label=None, \n",
    "            title=\"Phase Plot of Bob 2\", \n",
    "            ax=ax_b)    "
   ]
  },
  {
   "cell_type": "markdown",
   "id": "09dac9fd",
   "metadata": {
    "tags": []
   },
   "source": [
    "Obviously, because of the randomnized initial conditions, every phase plot will appear different. But I know that each plot will be nessy and chaotic, and not a single path will be repeated by a given bob. This highlights the messiness of this problem and the overall idea of chaos and its appearance in these systems."
   ]
  },
  {
   "cell_type": "code",
   "execution_count": null,
   "id": "d5282891-6dbf-4255-b3ff-2df37502c3b5",
   "metadata": {},
   "outputs": [],
   "source": []
  }
 ],
 "metadata": {
  "kernelspec": {
   "display_name": "Python 3",
   "language": "python",
   "name": "python3"
  },
  "language_info": {
   "codemirror_mode": {
    "name": "ipython",
    "version": 3
   },
   "file_extension": ".py",
   "mimetype": "text/x-python",
   "name": "python",
   "nbconvert_exporter": "python",
   "pygments_lexer": "ipython3",
   "version": "3.6.8"
  }
 },
 "nbformat": 4,
 "nbformat_minor": 5
}
